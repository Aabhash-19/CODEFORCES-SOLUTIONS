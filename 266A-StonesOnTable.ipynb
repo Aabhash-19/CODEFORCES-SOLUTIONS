{
 "cells": [
  {
   "cell_type": "code",
   "execution_count": null,
   "id": "dbaf5dca",
   "metadata": {},
   "outputs": [
    {
     "name": "stdout",
     "output_type": "stream",
     "text": [
      "2\n"
     ]
    }
   ],
   "source": [
    "n = int(input())\n",
    "s = input().upper()\n",
    "count = 0\n",
    "\n",
    "for i in range(n-1):\n",
    "    if s[i]==s[i+1]:\n",
    "        count+=1\n",
    "\n",
    "print(count)"
   ]
  }
 ],
 "metadata": {
  "kernelspec": {
   "display_name": "base",
   "language": "python",
   "name": "python3"
  },
  "language_info": {
   "codemirror_mode": {
    "name": "ipython",
    "version": 3
   },
   "file_extension": ".py",
   "mimetype": "text/x-python",
   "name": "python",
   "nbconvert_exporter": "python",
   "pygments_lexer": "ipython3",
   "version": "3.13.5"
  }
 },
 "nbformat": 4,
 "nbformat_minor": 5
}
